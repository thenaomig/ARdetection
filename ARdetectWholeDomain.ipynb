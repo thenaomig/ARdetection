{
 "cells": [
  {
   "cell_type": "code",
   "execution_count": 2,
   "metadata": {},
   "outputs": [],
   "source": [
    "#!source activate ARdetect #activate the conda environment with geopy installed"
   ]
  },
  {
   "cell_type": "code",
   "execution_count": 52,
   "metadata": {},
   "outputs": [],
   "source": [
    "import numpy as np\n",
    "from scipy.ndimage import label, extrema\n",
    "from scipy.ndimage import sum as ndSum\n",
    "from scipy.ndimage import maximum as ndMax\n",
    "import pandas as pd\n",
    "import xarray as xy\n",
    "import netCDF4\n",
    "import matplotlib.pyplot as plt\n",
    "import cartopy.crs as ccrs\n",
    "import string\n",
    "from matplotlib import cm  #colormap\n",
    "import os.path\n",
    "from copy import deepcopy\n",
    "from time import time\n",
    "from geopy.distance import vincenty\n",
    "\n",
    "%matplotlib inline"
   ]
  },
  {
   "cell_type": "code",
   "execution_count": 130,
   "metadata": {},
   "outputs": [],
   "source": [
    "class GeographicBounds(object):\n",
    "    def __init__(self, lonMin, lonMax, latMin, latMax):\n",
    "        self.lonMin = lonMin\n",
    "        self.lonMax = lonMax\n",
    "        self.latMin = latMin\n",
    "        self.latMax = latMax\n",
    "\n",
    "def startMonth(season):\n",
    "    if season == 'DJF':\n",
    "        return 12\n",
    "    elif season == 'MAM':\n",
    "        return 3\n",
    "    elif season == 'JJA':\n",
    "        return 6\n",
    "    elif season == 'SON':\n",
    "        return 9\n",
    "    \n",
    "#land fraction is the same for all runs on the same mesh:\n",
    "directory = '/data/public/reanalysis/erai_daily_netcdf/totalColumnWV/'\n",
    "filename = ''.join([directory,'landSeaMask.nc'])\n",
    "\n",
    "toGetLandFrac = xy.open_dataset(filename)\n",
    "bounds = GeographicBounds(190, 250, 25, 65)\n",
    "toGetLandFrac = toGetLandFrac.sel(longitude=slice(bounds.lonMin,bounds.lonMax),latitude=slice(bounds.latMax,bounds.latMin))\n",
    "landFracArr = np.asarray(toGetLandFrac['lsm'].squeeze())\n",
    "#-**-data-set dependent-**---\n",
    "HALFCELLINDEG = 0.3515625\n",
    "#----------------------------\n",
    "def getCellArea(lon,lat):\n",
    "    y = vincenty((lat-HALFCELLINDEG,0),(lat+HALFCELLINDEG,0)).kilometers\n",
    "    x = vincenty((lat,lon-HALFCELLINDEG),(lat,lon+HALFCELLINDEG)).kilometers\n",
    "    return x * y\n",
    "\n",
    "#can also do this part once, since all the time steps are on the same grid:\n",
    "latArr = np.asarray(toGetLandFrac.latitude)\n",
    "lonArr = np.asarray(toGetLandFrac.longitude)\n",
    "lonArr, latArr = np.meshgrid(lonArr,latArr)\n",
    "cellAreaArr = deepcopy(lonArr) \n",
    "for i in range(len(latArr)):\n",
    "    for j in range(len(lonArr)):\n",
    "        cellAreaArr[i,j] = getCellArea(lonArr[i,j],latArr[i,j])\n",
    "\n",
    "def getARmask(tmqOne):\n",
    "    maxArr = np.asarray(tmqOne).squeeze()\n",
    "    maxArr[np.nonzero(maxArr<THRESHOLD)] = 0 \n",
    "    labels, numL = label(maxArr) \n",
    "    onlyOneLabel = np.zeros(labels.shape)\n",
    "    if numL > 0:\n",
    "        sizesOfLabeledRegions = [len(labels[labels==i]) \n",
    "                                     for i in range(1, numL + 1)]\n",
    "        whichLabel = np.argmax(sizesOfLabeledRegions) \n",
    "        onlyOneLabel = np.zeros(labels.shape)\n",
    "        onlyOneLabel[np.nonzero(labels==whichLabel+1)] = 1\n",
    "    return onlyOneLabel\n",
    "        \n",
    "def hasAR(tmqOne):\n",
    "    ARmask = getARmask(tmqOne)\n",
    "    if ARmask.any():\n",
    "        lats = extrema(latArr,ARmask)\n",
    "        lons = extrema(lonArr,ARmask)\n",
    "        lowerLeft = (lats[0],lons[0])\n",
    "        upperRight = (lats[1],lons[1])\n",
    "        areaSum = ndSum(cellAreaArr,ARmask)\n",
    "        lengthKM = vincenty(lowerLeft, upperRight).kilometers\n",
    "        width = areaSum/lengthKM\n",
    "        \n",
    "        landFracPoints = extrema(landFracArr,ARmask) \n",
    "        if landFracPoints[0] > 0.2 or landFracPoints[1] > 0.2:\n",
    "            touchesContinent = True\n",
    "        else:\n",
    "            touchesContinent = False\n",
    "            return xy.DataArray([0])\n",
    "        \n",
    "        if touchesContinent:    \n",
    "            maxLandFallLat = np.max(latArr[np.logical_and(landFracArr>0.2,ARmask)])\n",
    "            minLandFallLat = np.min(latArr[np.logical_and(landFracArr>0.2,ARmask)])\n",
    "            extentLandfall = vincenty([minLandFallLat,0],[maxLandFallLat,0]).kilometers\n",
    "                \n",
    "            if extentLandfall > 1000:\n",
    "                return xy.DataArray([0])\n",
    "            maxLandFallLon = np.max(lonArr[np.logical_and(landFracArr>0.2,ARmask)])\n",
    "            \n",
    "            if (maxLandFallLat < NorthLat and maxLandFallLat > SouthLat) or \\\n",
    "                (minLandFallLat < NorthLat and minLandFallLat > SouthLat):\n",
    "                inRegion = True\n",
    "            \n",
    "                if(maxLandFallLon > EastLon or maxLandFallLon < WestLon):\n",
    "                    inRegion = False\n",
    "            else:\n",
    "                inRegion = False\n",
    "        \n",
    "        if (lengthKM > 2000) and (width < 1000) and touchesContinent and inRegion: \n",
    "            return xy.DataArray([1])\n",
    "        else:\n",
    "            return xy.DataArray([0])\n",
    "    else:\n",
    "        return xy.DataArray([0])\n",
    "    \n",
    "def plotAR(ax,tmqToPlot,bounds):\n",
    "    ax.set_extent((bounds.lonMin, bounds.lonMax, bounds.latMin, bounds.latMax)) \n",
    "    contourPart = tmqToPlot.squeeze().plot.contourf(ax=ax, transform=ccrs.PlateCarree(),vmax=THRESHOLD+1) #,colors='c',vmin=2,vmax=2) \n",
    "    ax.coastlines()\n",
    "    ax.gridlines()"
   ]
  },
  {
   "cell_type": "code",
   "execution_count": 133,
   "metadata": {},
   "outputs": [],
   "source": [
    "regions = dict([('All',GeographicBounds(220,250,34,60))])"
   ]
  },
  {
   "cell_type": "code",
   "execution_count": 134,
   "metadata": {},
   "outputs": [
    {
     "name": "stdout",
     "output_type": "stream",
     "text": [
      "finding  All  ARs took  49.35997438430786  seconds, or ~ 0.8226662397384643  minutes\n"
     ]
    }
   ],
   "source": [
    "directoryData = '/data/public/reanalysis/erai_daily_netcdf/totalColumnWV/'\n",
    "field = 'tcw'\n",
    "\n",
    "oneFile = ''.join([directoryData,'ERAI_tcw_1979-2016.nc']) \n",
    "THRESHOLD = 2 \n",
    "bounds = GeographicBounds(190, 250, 25, 65)\n",
    "for whichRegion in regions:\n",
    "    t1 = time()\n",
    "\n",
    "    NorthLat = regions[whichRegion].latMax\n",
    "    SouthLat = regions[whichRegion].latMin\n",
    "    EastLon = regions[whichRegion].lonMax\n",
    "    WestLon = regions[whichRegion].lonMin\n",
    "\n",
    "    tmq = xy.open_dataset(oneFile)\n",
    "    tmq = tmq.sel(longitude=slice(bounds.lonMin,bounds.lonMax),latitude=slice(bounds.latMax,bounds.latMin))\n",
    "    tmq = tmq.resample(time='D').mean() #daily means of six-hourly data\n",
    "    tmq=tmq[field]/10.0\n",
    "\n",
    "    events = tmq.groupby('time').apply(hasAR)\n",
    "\n",
    "    eventsOne = events.to_pandas() \n",
    "    eventsOne.index.to_datetime()\n",
    "    eventsOne[eventsOne[0]==1].to_csv('/work/ngoldenson/ARsDetected/daysWithARs'+whichRegion+'DailyMeanERAI.csv')\n",
    "    allEventsTimeSeries = eventsOne.resample('M').sum()\n",
    "\n",
    "    allEventsTimeSeries.to_csv(''.join(['/work/ngoldenson/ARsDetected/AReventTimeSeries',whichRegion,'DailyMeanERAI.csv']))\n",
    "\n",
    "    bySeason = eventsOne['19821201':'20160531'].resample('3MS').sum()\n",
    "    bySeason.loc[(bySeason.index.month==startMonth('DJF'))].to_csv(''.join(['/work/ngoldenson/ARsDetected/AReventsDJFonly',whichRegion,'DailyMeanERAI.csv'])) \n",
    "    bySeason.loc[(bySeason.index.month==startMonth('SON'))].to_csv(''.join(['/work/ngoldenson/ARsDetected/AReventsSONonly',whichRegion,'DailyMeanERAI.csv']))\n",
    "    bySeason.loc[(bySeason.index.month==startMonth('MAM'))].to_csv(''.join(['/work/ngoldenson/ARsDetected/AReventsMAMonly',whichRegion,'DailyMeanERAI.csv']))\n",
    "    \n",
    "    t2 = time()\n",
    "    print('finding ',whichRegion,' ARs took ', (t2-t1), ' seconds, or ~', (t2-t1)/60.0, ' minutes')"
   ]
  },
  {
   "cell_type": "code",
   "execution_count": null,
   "metadata": {},
   "outputs": [],
   "source": [
    "#reimport tmq so its not masked\n",
    "tmq = xy.open_dataset(oneFile)\n",
    "tmq = tmq.sel(longitude=slice(bounds.lonMin,bounds.lonMax),latitude=slice(bounds.latMax,bounds.latMin))\n",
    "tmq = tmq.resample(time='D').mean()\n",
    "tmq=tmq[field]/10.0\n"
   ]
  },
  {
   "cell_type": "code",
   "execution_count": null,
   "metadata": {},
   "outputs": [],
   "source": [
    "ARs = eventsOne[eventsOne[0]==1].index"
   ]
  },
  {
   "cell_type": "code",
   "execution_count": null,
   "metadata": {},
   "outputs": [],
   "source": [
    "plt.figure(figsize=(30,40)) \n",
    "for i, oneTime in enumerate(ARs):\n",
    "    if i < 120: #a sample - the first 120\n",
    "        oneTMQ = tmq.sel(time=oneTime)\n",
    "        ax = plt.subplot(15,8,i+1, projection=ccrs.Orthographic(-140, 45))\n",
    "        plotAR(ax,oneTMQ,bounds)"
   ]
  },
  {
   "cell_type": "markdown",
   "metadata": {},
   "source": [
    "## Read in some additional ERA-I output to plot AR-day composites:"
   ]
  },
  {
   "cell_type": "code",
   "execution_count": null,
   "metadata": {},
   "outputs": [],
   "source": [
    "#--------500 mbar heights-----------\n",
    "directoryData = '/data/public/reanalysis/erai_daily_netcdf/geopotential/'\n",
    "field = 'z'\n",
    "\n",
    "oneFile = ''.join([directoryData,'ERAI_z_1979-2016.nc'])\n",
    "\n",
    "bounds = GeographicBounds(190, 250, 20, 65)\n",
    "myGeoP = xy.open_dataset(oneFile)\n",
    "myGeoP = myGeoP.sel(longitude=slice(bounds.lonMin,bounds.lonMax),latitude=slice(bounds.latMax,bounds.latMin))\n",
    "\n",
    "GeoP = myGeoP[field].sel(level=500)/9.8\n",
    "GeoP = GeoP.resample(time='D').mean('time')"
   ]
  },
  {
   "cell_type": "code",
   "execution_count": null,
   "metadata": {},
   "outputs": [],
   "source": [
    "#--------2 meter air temperature--------\n",
    "directoryData = '/data/public/reanalysis/erai_daily_netcdf/t2m/'\n",
    "field = 't2m'\n",
    "\n",
    "oneFile = ''.join([directoryData,'ERAI_t2m_1979-2016.nc'])\n",
    "\n",
    "bounds = GeographicBounds(190, 250, 20, 65)\n",
    "myTREFHT = xy.open_dataset(oneFile)\n",
    "myTREFHT = myTREFHT[field].sel(longitude=slice(bounds.lonMin,bounds.lonMax),latitude=slice(bounds.latMax,bounds.latMin))\n",
    "myTREFHT = myTREFHT.resample(time='D').mean('time')"
   ]
  },
  {
   "cell_type": "code",
   "execution_count": null,
   "metadata": {},
   "outputs": [],
   "source": [
    "climoTREFHT = myTREFHT.sel(time=slice('19821201','20120531')).groupby('time.month').mean('time') #doing this only once speeds things up\n",
    "\n",
    "def subtractClimoOfMonth(y):\n",
    "    return y - climoTREFHT.sel(month=np.int(y['time.month']))"
   ]
  },
  {
   "cell_type": "code",
   "execution_count": null,
   "metadata": {},
   "outputs": [],
   "source": [
    "def plotComposites(ax,noColorbar=True):\n",
    "    ax.set_extent((bounds.lonMin, bounds.lonMax, bounds.latMin, bounds.latMax)) \n",
    "\n",
    "    CS = GeoP.sel(time=sampleDays).mean('time').plot.contour(ax=ax, levels=10, transform=ccrs.PlateCarree(),colors='g') #vmin=-5,vmax=5,cmap=cm.bwr\n",
    "    plt.clabel(CS, inline=True, fmt='%.0f', fontsize=10)\n",
    "    \n",
    "    tmqCS = tmq.sel(time=sampleDays).mean('time').squeeze().plot.contour(ax=ax, levels=[2,2.5,3], transform=ccrs.PlateCarree(),colors='purple')\n",
    "    plt.clabel(tmqCS, inline=True, fmt='%.0f',fontsize=10)\n",
    "    \n",
    "    toPlotTanom = myTREFHT.sel(time=sampleDays).groupby('time').apply(subtractClimoOfMonth).mean('time')\n",
    "    temp = toPlotTanom.plot.pcolormesh(ax=ax,transform=ccrs.PlateCarree(),vmin=-6,vmax=6,cmap=cm.RdBu_r)\n",
    "    if noColorbar:\n",
    "        cb = temp.colorbar\n",
    "        cb.remove()\n",
    "    \n",
    "    ax.coastlines()\n",
    "    ax.gridlines() "
   ]
  },
  {
   "cell_type": "code",
   "execution_count": null,
   "metadata": {},
   "outputs": [],
   "source": [
    "onlyARdays = eventsOne[eventsOne[0]==1]\n",
    "ARdaysDJF = onlyARdays.loc[(onlyARdays.index.month==startMonth('DJF'))]"
   ]
  },
  {
   "cell_type": "code",
   "execution_count": null,
   "metadata": {},
   "outputs": [],
   "source": [
    "plt.figure(figsize=[25,5])\n",
    "sampleDays = ARdaysDJF['19821201':'20120228'].index.shift(-2,'D')\n",
    "ax = plt.subplot(1,5,1, projection=ccrs.Orthographic(-120, 35))\n",
    "plotComposites(ax)\n",
    "plt.title('2 days before')\n",
    "sampleDays = ARdaysDJF['19821201':'20120228'].index.shift(-1,'D')\n",
    "ax = plt.subplot(1,5,2, projection=ccrs.Orthographic(-120, 35))\n",
    "plotComposites(ax)\n",
    "plt.title('1 day before')\n",
    "sampleDays = ARdaysDJF['19821201':'20120228'].index #'19821223'\n",
    "ax = plt.subplot(1,5,3, projection=ccrs.Orthographic(-120, 35))\n",
    "plotComposites(ax)\n",
    "plt.title('day of AR')\n",
    "sampleDays = ARdaysDJF['19821201':'20120228'].index.shift(1,'D')\n",
    "ax = plt.subplot(1,5,4, projection=ccrs.Orthographic(-120, 35))\n",
    "plotComposites(ax)\n",
    "plt.title('1 day after')\n",
    "sampleDays = ARdaysDJF['19821201':'20120228'].index.shift(2,'D')\n",
    "ax = plt.subplot(1,5,5, projection=ccrs.Orthographic(-120, 35))\n",
    "plotComposites(ax)\n",
    "plt.title('2 days after')"
   ]
  },
  {
   "cell_type": "code",
   "execution_count": null,
   "metadata": {},
   "outputs": [],
   "source": []
  }
 ],
 "metadata": {
  "kernelspec": {
   "display_name": "Python 3",
   "language": "python",
   "name": "python3"
  },
  "language_info": {
   "codemirror_mode": {
    "name": "ipython",
    "version": 3
   },
   "file_extension": ".py",
   "mimetype": "text/x-python",
   "name": "python",
   "nbconvert_exporter": "python",
   "pygments_lexer": "ipython3",
   "version": "3.6.5"
  }
 },
 "nbformat": 4,
 "nbformat_minor": 1
}
